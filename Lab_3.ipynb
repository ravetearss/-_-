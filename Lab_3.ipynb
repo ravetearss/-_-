{
  "nbformat": 4,
  "nbformat_minor": 0,
  "metadata": {
    "colab": {
      "provenance": [],
      "authorship_tag": "ABX9TyPKvmYCSImORWX/VcrFZgvS",
      "include_colab_link": true
    },
    "kernelspec": {
      "name": "python3",
      "display_name": "Python 3"
    },
    "language_info": {
      "name": "python"
    }
  },
  "cells": [
    {
      "cell_type": "markdown",
      "metadata": {
        "id": "view-in-github",
        "colab_type": "text"
      },
      "source": [
        "<a href=\"https://colab.research.google.com/github/ravetearss/-_-/blob/main/Lab_3.ipynb\" target=\"_parent\"><img src=\"https://colab.research.google.com/assets/colab-badge.svg\" alt=\"Open In Colab\"/></a>"
      ]
    },
    {
      "cell_type": "markdown",
      "source": [
        "# Программирование на языке высокого уровня (Python).\n",
        "# https://www.yuripetrov.ru/edu/python\n",
        "# Выполнил: Варламова Д.Ю.\n",
        "# Группа: АДЭУ-221\n",
        "# Электронная почта: varlamova.dianaa@gmail.com"
      ],
      "metadata": {
        "id": "A-8_AkSnGTLo"
      }
    },
    {
      "cell_type": "markdown",
      "source": [
        "# № 3.2.1\n",
        "Составьте программу, которая запрашивает у пользователя 2 целых числа и выполняет операции: арифметические: +, -, * , / , // , %, **; сравнение: <, <=, >, >=, !=, ==, выводя на экран результат каждого действия. В случае получение вещественного результата, округлите его до 2-х знаков после запятой (используя функцию round())"
      ],
      "metadata": {
        "id": "HfvNSG0qL6i9"
      }
    },
    {
      "cell_type": "code",
      "execution_count": 9,
      "metadata": {
        "colab": {
          "base_uri": "https://localhost:8080/"
        },
        "id": "7ICj1PBDDPle",
        "outputId": "9cf831f0-8ae1-4849-df28-f6bf8a9b0fd6"
      },
      "outputs": [
        {
          "output_type": "stream",
          "name": "stdout",
          "text": [
            "a=1\n",
            "b=2\n",
            "3\n",
            "-1\n",
            "2\n",
            "0.5\n",
            "0\n",
            "1\n",
            "1\n",
            "True\n",
            "True\n",
            "False\n",
            "False\n",
            "True\n",
            "False\n"
          ]
        }
      ],
      "source": [
        "a = int(input(\"a=\"))\n",
        "b = int(input(\"b=\"))\n",
        "\n",
        "print(a + b) #cумма\n",
        "print(a - b) #разность\n",
        "print(a*b) #произведение\n",
        "print(round(a/b,2)) #деление с округлением до двух знаков после запятой\n",
        "print(a // b) #целая часть от деления\n",
        "print(a % b) #остаток от деления\n",
        "print(a ** b) #a в степени b\n",
        "\n",
        "print(a < b) #меньше\n",
        "print(a <= b) #меньше или равно\n",
        "print(a > b) #больше\n",
        "print(a >= b) #больше или равно\n",
        "print(a != b) #не равно \n",
        "print(a == b) #равно "
      ]
    },
    {
      "cell_type": "markdown",
      "source": [
        "# № 3.2.2\n",
        "\n",
        "Вычислите значение следующего выражения (аргументы - целые числа и вводятся с клавиатуры):\n",
        "\n",
        "![image.png](data:image/png;base64,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)\n",
        "\n",
        "Округлите результат до 3-х знаков после запятой, используя функцию round()."
      ],
      "metadata": {
        "id": "xxUKfbIzLEvu"
      }
    },
    {
      "cell_type": "code",
      "source": [
        "x = int(input(\"x=\")) \n",
        "y = int(input(\"y=\")) \n",
        "z = int(input(\"z=\")) \n",
        "\n",
        "res = ((((x**5)+7)/((abs(-6))*y))**(1/3))/(7-(z % y))\n",
        "\n",
        "print(round(res,2)) #результат с округлением до двух знаков после запятой\n"
      ],
      "metadata": {
        "colab": {
          "base_uri": "https://localhost:8080/"
        },
        "id": "d8I2dtmKMZQY",
        "outputId": "06c60a3e-040c-42f6-920f-f75638dadd49"
      },
      "execution_count": 11,
      "outputs": [
        {
          "output_type": "stream",
          "name": "stdout",
          "text": [
            "x=1\n",
            "y=2\n",
            "z=3\n",
            "0.15\n"
          ]
        }
      ]
    },
    {
      "cell_type": "markdown",
      "source": [
        "# № 3.2.3\n",
        "\n",
        "Дана электрическая цепь, состоящая из 2-х последовательно соединенных проводников (сопротивление каждого известно). Найти общее сопротивление цепи (округление результата необходимо выполнить до 1-го знака после запятой).\n",
        "\n",
        "# Решение (начало и общий ход мыслей):\n",
        "\n",
        "# 1.Аналитическое решение.\n",
        "\n",
        "Проводники соединены последовательно, поэтому общее сопротивление цепи будет равно сумме их сопротивлений. Сопротивление может быть вещественным числом, поэтому для его хранения необходимо выбрать тип float.\n",
        "\n",
        "# 2.Алгоритм.\n",
        "\n",
        "- ввести 2 вещественных значения - сопротивления проводников;\n",
        "- вычислить их сумму;\n",
        "- вывести ответ на экран.\n",
        "\n",
        "# 3.Программа.\n",
        "#здесь должна быть программа"
      ],
      "metadata": {
        "id": "nq1Nv78uSBjz"
      }
    },
    {
      "cell_type": "code",
      "source": [
        "r1 = float(input(\"r1=\")) #Вводим значение первого проводника через функцию невещественного числа float\n",
        "r2 = float(input(\"r2=\"))\n",
        "\n",
        "\n",
        "# Общее сопротивление\n",
        "r = (r1 + r2)\n",
        "\n",
        "print(round(r,1)) #результат с округлением до одного знаков после запятой\n",
        "\n"
      ],
      "metadata": {
        "colab": {
          "base_uri": "https://localhost:8080/"
        },
        "id": "CRzL6qSSSsJ6",
        "outputId": "65611bd7-2934-42b6-fd0e-eca2723cf990"
      },
      "execution_count": 12,
      "outputs": [
        {
          "output_type": "stream",
          "name": "stdout",
          "text": [
            "r1=12\n",
            "r2=21\n",
            "33.0\n"
          ]
        }
      ]
    },
    {
      "cell_type": "markdown",
      "source": [
        "# № 3.2.4\n",
        "\n",
        "Дано двузначное и трехзначное число. Для каждого выведите на экран сумму и произведение цифр."
      ],
      "metadata": {
        "id": "yp5WQMSzY_Tm"
      }
    },
    {
      "cell_type": "code",
      "source": [
        "# Двузначное число\n",
        "num2 = list(map(int, input(\"Двузначное число:\")))\n",
        "# Трехзначное число\n",
        "num3 = list(map(int, input(\"Трехзначное число:\"))) \n",
        "\n",
        "# 1-я цифра числа 'num2'\n",
        "num2_1 = num2[0]\n",
        "# 2-я цифра числа 'num2'\n",
        "num2_2 = num2[1]\n",
        "\n",
        "# Сумма цифр числа 'num2'\n",
        "num2_s = (num2_1 + num2_2)\n",
        "# Произведение цифр числа 'num2'\n",
        "num2_p = (num2_1 * num2_2)\n",
        "\n",
        "# 1-я цифра числа 'num3'\n",
        "num3_1 = num3[0]\n",
        "# 2-я цифра числа 'num3'\n",
        "num3_2 = num3[1]\n",
        "# 3-я цифра числа 'num3'\n",
        "num3_3 = num3[2]\n",
        "\n",
        "# Сумма цифр числа 'num3'\n",
        "num3_s = (num3_1 + num3_2 + num3_3)\n",
        "# Произведение цифр числа 'num3'\n",
        "num3_p = (num3_1 * num3_2 * num3_3)\n",
        "\n",
        "# Вывод результата\n",
        "print(\"Сумма и произведение цифр двузначного числа:\",num2_s, num2_p)\n",
        "print(\"Сумма и произведение цифр трехзначного числа:\", num3_s, num3_p)\n"
      ],
      "metadata": {
        "colab": {
          "base_uri": "https://localhost:8080/"
        },
        "id": "B2R5-pxQZGKf",
        "outputId": "29bf6899-62ef-477a-e737-eeb3c7aa5a6c"
      },
      "execution_count": 13,
      "outputs": [
        {
          "output_type": "stream",
          "name": "stdout",
          "text": [
            "Двузначное число:12\n",
            "Трехзначное число:123\n",
            "Сумма и произведение цифр двузначного числа: 3 2\n",
            "Сумма и произведение цифр трехзначного числа: 6 6\n"
          ]
        }
      ]
    },
    {
      "cell_type": "markdown",
      "source": [
        "# № 3.2.5\n",
        "\n",
        "С начала суток прошло m минут (0<m≤24∗60). \n",
        "# Определите:\n",
        "\n",
        "- целое количество часов, прошедших с начала суток;\n",
        "\n",
        "- количество минут, прошедших с момента начала последнего часа."
      ],
      "metadata": {
        "id": "MJgi5AG0rH5o"
      }
    },
    {
      "cell_type": "code",
      "source": [
        "# Количество минут\n",
        "m = int(input(\"Kоличество минут, прошедшее с начала суток:\"))\n",
        "\n",
        "# Количество часов, прошедших с начала суток\n",
        "h = (m // 60)\n",
        "# Количество минут, прошедших с момента начала последнего часа\n",
        "m2 = (m % 60)\n",
        "\n",
        "if 0<m<=(24*60):\n",
        "  print(\"Количество часов, прошедших с начала суток:\",h) \n",
        "  print(\"Количество минут, прошедших с момента начала последнего часа:\",m2)\n",
        "\n",
        "else:\n",
        "  print(\"Количество заданных минут превышает количество минут в сутках\") \n"
      ],
      "metadata": {
        "colab": {
          "base_uri": "https://localhost:8080/"
        },
        "id": "J-wz9fzkrUNq",
        "outputId": "bd9d0d05-a5b6-441e-be49-7e96457b2cd4"
      },
      "execution_count": 14,
      "outputs": [
        {
          "output_type": "stream",
          "name": "stdout",
          "text": [
            "Kоличество минут, прошедшее с начала суток:12\n",
            "Количество часов, прошедших с начала суток: 0\n",
            "Количество минут, прошедших с момента начала последнего часа: 12\n"
          ]
        }
      ]
    },
    {
      "cell_type": "markdown",
      "source": [
        "# № 3.2.6\n",
        "\n",
        "Дано уравнение ax + b = 0 и отрезок [m;n]. Ответьте на вопрос, попадает ли решение уравнения в указанный отрезок.\n",
        "\n",
        "# Решение (начало и общий ход мыслей):\n",
        "\n",
        "# Аналитическое решение.\n",
        "\n",
        "Коэффициенты уравнения и величина отрезка - произвольны, возьмем целые числа. Решение x при этом может быть дробным. После определения x составим логическое выражение попадания в отрезок, что и будет ответом.\n",
        "\n",
        "# Алгоритм.\n",
        "\n",
        "- ввести все неизвестные величины;\n",
        "- определить корень уравнения;\n",
        "- составить логическое выражение попадания корня в область;\n",
        "- вывести результат попадания на экран.\n",
        "\n",
        "# Программа.\n",
        "\n",
        "# здесь должна быть программа"
      ],
      "metadata": {
        "id": "c9neBZZrwbwK"
      }
    },
    {
      "cell_type": "code",
      "source": [
        "a = int(input(\"a=\")) \n",
        "b = int(input(\"b=\")) \n",
        "m = int(input(\"m=\")) \n",
        "n = int(input(\"n=\")) \n",
        "\n",
        "x = (-b/a)\n",
        "\n",
        "is_ok = (m<=x) and (x<=n)\n",
        "\n",
        "print(\"Попадает:\", is_ok)\n"
      ],
      "metadata": {
        "colab": {
          "base_uri": "https://localhost:8080/"
        },
        "id": "jRTSbTXsw9Wg",
        "outputId": "5f2c99d1-f2d0-4059-fc69-0426db618d08"
      },
      "execution_count": 15,
      "outputs": [
        {
          "output_type": "stream",
          "name": "stdout",
          "text": [
            "a=1\n",
            "b=2\n",
            "m=3\n",
            "n=4\n",
            "Попадает: False\n"
          ]
        }
      ]
    },
    {
      "cell_type": "markdown",
      "source": [
        "# № 3.2.7\n",
        "\n",
        "Составьте программу, которая запрашивает название футбольной команды и повторяет его на экране со словами\n",
        "\n",
        "... - чемпион!\n",
        "После этого выполните:\n",
        "\n",
        "используя операцию дублирования, нарисуйте черту (набор \"-\"), длиной, равной размеру названия команды;\n",
        "\n",
        "преобразуйте строку в нижний регистр и выведите на экран:\n",
        "\n",
        "длину наименования команды;\n",
        "\n",
        "есть ли в наименовании команды буква \"п\" (True/False)?\n",
        "\n",
        "сколько раз повторяется буква \"а\"?"
      ],
      "metadata": {
        "id": "-lBrqkRMG-eP"
      }
    },
    {
      "cell_type": "code",
      "source": [
        "team = input(\"Введите название команды: \")\n",
        "\n",
        "print(team, \"- чемпион\")\n",
        "\n",
        "print(len(team) * \"-\")\n",
        "\n",
        "# Название команды в нижнем регистре\n",
        "team_lowercase = print(team.lower())\n",
        "\n",
        "print(\"Длина наименования команды: \", len(team))\n",
        "print(\"Есть ли в наименовании команды буква 'п' :\", bool(\"п\" in (team)))\n",
        "print(\"Сколько раз повторяется буква а:\", team.count(\"а\"))"
      ],
      "metadata": {
        "colab": {
          "base_uri": "https://localhost:8080/"
        },
        "id": "7DydLyGvD26C",
        "outputId": "81a7da97-86d5-4754-970e-860e4e66e5ad"
      },
      "execution_count": 16,
      "outputs": [
        {
          "output_type": "stream",
          "name": "stdout",
          "text": [
            "Введите название команды: спартак\n",
            "спартак - чемпион\n",
            "-------\n",
            "спартак\n",
            "Длина наименования команды:  7\n",
            "Есть ли в наименовании команды буква 'п' : True\n",
            "Сколько раз повторяется буква а: 2\n"
          ]
        }
      ]
    },
    {
      "cell_type": "markdown",
      "source": [
        "# № 3.2.8\n",
        "\n",
        "Составьте программу, которая запрашивает название государства и его столицы, а затем выводит сообщение:\n",
        "\n",
        "*Государство - ..., столица - ...*\n",
        "\n",
        "На месте многоточий должны быть выведены соответствующие значения."
      ],
      "metadata": {
        "id": "Ize5JfW5E4YE"
      }
    },
    {
      "cell_type": "code",
      "source": [
        "# Название государства\n",
        "country = input(\"Название государства:\")\n",
        "# Название столицы\n",
        "capital = input(\"Название столицы:\")\n",
        "\n",
        "s1=\"Государство -\"\n",
        "s2=\"столица -\"\n",
        "done = \"{} {}, {} {}\".format(s1,country,s2,capital)\n",
        "print(done)\n"
      ],
      "metadata": {
        "colab": {
          "base_uri": "https://localhost:8080/"
        },
        "id": "hpJWxkHGFOlV",
        "outputId": "84737d4f-e5c3-4d01-dbad-7ea2b2839fa4"
      },
      "execution_count": 20,
      "outputs": [
        {
          "output_type": "stream",
          "name": "stdout",
          "text": [
            "Название государства:ghjfj\n",
            "Название столицы:jknfin\n",
            "Государство - ghjfj, столица - jknfin\n"
          ]
        }
      ]
    },
    {
      "cell_type": "markdown",
      "source": [
        "# № 3.2.9\n",
        "\n",
        "Дано слово объектно-ориентированный. Используя индексацию и срезы составьте из него слова объект, ориентир, тир, кот, рента и выведите их на экран."
      ],
      "metadata": {
        "id": "ak0mxdvTHuh9"
      }
    },
    {
      "cell_type": "code",
      "source": [
        "word = \"объектно-ориентированный\"\n",
        "\n",
        "w1 = word[:6]\n",
        "w2 = word[9:17]\n",
        "w3 = word[14:17]\n",
        "w4 = word[4]+word[7]+word[5]\n",
        "w5 = word[10]+word[12:15]+word[19]\n",
        "\n",
        "print(w1, w2, w3, w4, w5, sep=\"\\n\")"
      ],
      "metadata": {
        "colab": {
          "base_uri": "https://localhost:8080/"
        },
        "id": "iyF7zgAUIdMD",
        "outputId": "16a7cfbf-b5f9-4f94-96bf-07407bd178f9"
      },
      "execution_count": 21,
      "outputs": [
        {
          "output_type": "stream",
          "name": "stdout",
          "text": [
            "объект\n",
            "ориентир\n",
            "тир\n",
            "кот\n",
            "рента\n"
          ]
        }
      ]
    },
    {
      "cell_type": "markdown",
      "source": [
        "# № 3.2.10\n",
        "\n",
        "Создайте 2 пустых списка и выполните операции, описанные в заготовке."
      ],
      "metadata": {
        "id": "2gsqk3rZIWVO"
      }
    },
    {
      "cell_type": "code",
      "source": [
        "# Создать 2 пустых списка\n",
        "a=list()\n",
        "b=list()\n",
        "\n",
        "# Добавить 2 вещественных числа (4.5 и 3.4) в список 'a' с помощью append\n",
        "a.append(4.5)\n",
        "a.append(3.4)\n",
        "# Добавить 2 вещественных числа (8.7, 1.3) в список 'a' с помощью extend\n",
        "a.extend((8.7, 1.3))\n",
        "\n",
        "# Добавить 2 вещественных числа (14.5, 3.4) в список 'b' с помощью append\n",
        "b.append(14.5)\n",
        "b.append(3.4)\n",
        "\n",
        "# Добавить 2 вещественных числа (8.7, 11.3) в список 'b'с помощью extend\n",
        "b.extend((8.7, 11.3))\n",
        "\n",
        "# Вставить целое число 100 на 2-е и 4-е место списка 'a'\n",
        "a.insert(1, 100)\n",
        "a.insert(3, 100)\n",
        "\n",
        "# Вставить целое число 200 на 1-е и 3-е место списка 'b'\n",
        "b.insert(0, 200)\n",
        "b.insert(2, 200)\n",
        "\n",
        "# Вывести списки на экран\n",
        "print(\"Исходные списки:\")\n",
        "print(a)\n",
        "print(b)\n",
        "\n",
        "# Удалить первые элементы из списков 'a' и 'b'\n",
        "del a[1]\n",
        "del b[1]\n",
        "\n",
        "# Удалить элемент 100 из списка 'a'\n",
        "a.remove(100)\n",
        "# Удалить элемент 200 из списка 'b'\n",
        "b.remove(200)\n",
        "\n",
        "# Вывести списки на экран\n",
        "print(\"\\nПосле удалений:\")\n",
        "print(a)\n",
        "print(b)\n",
        "\n",
        "# Создать множества из списков 'a' и 'b', а также их пересечение\n",
        "sa = set(a)\n",
        "sb = set(b)\n",
        "sa_and_sb = (sa & sb)\n",
        "    \n",
        "# Вывести экран уникальные элементы каждого списка и общие\n",
        "print(\"Уникальные элементы:\")\n",
        "print()\n",
        "print(\"Oбщие:\", sa_and_sb)\n"
      ],
      "metadata": {
        "colab": {
          "base_uri": "https://localhost:8080/"
        },
        "id": "M-ZAxI0JIeFS",
        "outputId": "27553b9e-b606-497e-b388-22490ed484f7"
      },
      "execution_count": 46,
      "outputs": [
        {
          "output_type": "stream",
          "name": "stdout",
          "text": [
            "Исходные списки:\n",
            "[4.5, 100, 3.4, 100, 8.7, 1.3]\n",
            "[200, 14.5, 200, 3.4, 8.7, 11.3]\n",
            "\n",
            "После удалений:\n",
            "[4.5, 3.4, 8.7, 1.3]\n",
            "[200, 3.4, 8.7, 11.3]\n",
            "Уникальные элементы:\n",
            "\n",
            "Oбщие: {8.7, 3.4}\n"
          ]
        }
      ]
    },
    {
      "cell_type": "markdown",
      "source": [
        "# № 3.2.11\n",
        "\n",
        "Создайте пустой словарь для хранения информации о себе и выполните операции, описанные в заготовке."
      ],
      "metadata": {
        "id": "wGQb05PBIeqW"
      }
    }
  ]
}